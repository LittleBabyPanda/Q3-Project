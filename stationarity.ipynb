{
 "cells": [
  {
   "cell_type": "markdown",
   "metadata": {},
   "source": [
    "# Dépenses de consommation trimestrielles des ménages"
   ]
  },
  {
   "cell_type": "markdown",
   "metadata": {},
   "source": [
    "## Data Management"
   ]
  },
  {
   "cell_type": "markdown",
   "metadata": {},
   "source": [
    "### Importations des packages"
   ]
  },
  {
   "cell_type": "code",
   "execution_count": 14,
   "metadata": {},
   "outputs": [],
   "source": [
    "%matplotlib inline\n",
    "import pandas as pd\n",
    "import numpy as np\n",
    "import copy\n",
    "import matplotlib.pyplot as plt\n",
    "from sklearn.decomposition import PCA\n",
    "import seaborn as sns\n",
    "#from mlxtend.plotting import plot_pca_correlation_graph\n",
    "import os\n",
    "from sklearn.linear_model import Lasso\n",
    "from sklearn.preprocessing import StandardScaler\n",
    "import seaborn as sns\n",
    "from pyfile import *\n",
    "cwd = os.getcwd()"
   ]
  },
  {
   "cell_type": "markdown",
   "metadata": {},
   "source": [
    "La première étape consiste à tout stationnariser"
   ]
  },
  {
   "cell_type": "code",
   "execution_count": 15,
   "metadata": {},
   "outputs": [],
   "source": [
    "''' Mise au format datetime des index '''\n",
    "\n",
    "import datetime as dt\n",
    "lesdates = []\n",
    "dernierJour = {\n",
    "    1:31,\n",
    "    2:28,\n",
    "    3:31,\n",
    "    4:30,\n",
    "    5:31,\n",
    "    6:30,\n",
    "    7:31,\n",
    "    8:31,\n",
    "    9:30,\n",
    "    10:31,\n",
    "    11:30,\n",
    "    12:31\n",
    "}\n",
    "for i in range(len(yty_var_tot)*3):\n",
    "    annee = 2011+((i+4)//12)\n",
    "    mois = (i+4)%12\n",
    "    if mois == 0:\n",
    "        mois += 12\n",
    "        annee -= 1\n",
    "    jour = dernierJour[mois]\n",
    "    if (annee - 2008)%4 == 0 and mois == 2:\n",
    "        jour = 29\n",
    "    lesdates.append(dt.date(annee,mois,jour))\n",
    "lesdates = pd.Index(lesdates)\n"
   ]
  },
  {
   "cell_type": "code",
   "execution_count": 16,
   "metadata": {},
   "outputs": [
    {
     "output_type": "execute_result",
     "data": {
      "text/plain": "Constante    0.000007\nTemps        0.000008\ndtype: float64"
     },
     "metadata": {},
     "execution_count": 16
    }
   ],
   "source": [
    "''' Stationnarisation de yty_var '''\n",
    "\n",
    "import statsmodels.api as sm\n",
    "from statsmodels.tsa.stattools import adfuller\n",
    "regX = pd.DataFrame()\n",
    "regX['Constante'] = pd.Series(np.ones(len(yty_var_tot)))\n",
    "regX['Temps'] = pd.Series(np.arange(1,len(yty_var_tot)+1))\n",
    "regX.index = yty_var_tot.index\n",
    "\n",
    "sm.OLS(yty_var_tot.iloc[:,0],regX).fit().pvalues # Tendance ct"
   ]
  },
  {
   "cell_type": "markdown",
   "metadata": {},
   "source": [
    "La régression sur la constante et le temps témoignent de coefficients significatifs. Il faut donc les ajouter à la régression du test ADF."
   ]
  },
  {
   "cell_type": "code",
   "execution_count": 17,
   "metadata": {},
   "outputs": [
    {
     "output_type": "execute_result",
     "data": {
      "text/plain": "0.41837583922196697"
     },
     "metadata": {},
     "execution_count": 17
    }
   ],
   "source": [
    "adfuller(yty_var_tot.iloc[:,0],regression = 'ct', maxlag=8, autolag='t-stat')[1] "
   ]
  },
  {
   "cell_type": "markdown",
   "metadata": {},
   "source": [
    "On ne peut pas rejeter l'hypothèse de racine unité aux seuils habituels. Nous supposons donc que la série n'est pas stationnaire et que par conséquent il est nécessaire de la différencier une fois."
   ]
  },
  {
   "cell_type": "code",
   "execution_count": 18,
   "metadata": {},
   "outputs": [
    {
     "output_type": "execute_result",
     "data": {
      "text/plain": "3.5520983189440084e-06"
     },
     "metadata": {},
     "execution_count": 18
    }
   ],
   "source": [
    "yty_var_tot = pd.DataFrame({'Variations de la consommation':var, 'Date':list(conso.index)[4:]})\n",
    "yty_var_tot = yty_var_tot.set_index('Date').loc['2011T1':]\n",
    "yty_var_tot = yty_var_tot.diff().iloc[1:,:]\n",
    "yty_var_tot.index = lesdates[np.arange(2,len(lesdates),3)]\n",
    "regX = pd.DataFrame()\n",
    "regX['Constante'] = pd.Series(np.ones(len(yty_var_tot)))\n",
    "regX['Temps'] = pd.Series(np.arange(1,len(yty_var_tot)+1))\n",
    "regX.index = yty_var_tot.index\n",
    "sm.OLS(yty_var_tot.iloc[:,0],regX).fit().pvalues # On appliquera le paramètre nc\n",
    "\n",
    "adfuller(yty_var_tot.iloc[:,0],regression = 'nc', maxlag=8, autolag='t-stat')[1] # C'est bien stationnaire"
   ]
  },
  {
   "cell_type": "markdown",
   "metadata": {},
   "source": [
    "Cette fois, nous pouvons rejeter à tous les niveaux habituels l'hypothèse de racine unité. Il est suffisant de ne différentier qu'une fois."
   ]
  },
  {
   "cell_type": "code",
   "execution_count": 19,
   "metadata": {},
   "outputs": [],
   "source": [
    "X_selectb = (X[selectionBrut].iloc[:117,:][::-1].diff(periods=12)/X[selectionBrut].iloc[:117,:][::-1].shift(periods=12)).iloc[12:,:] # On calcule en yty_var\n",
    "X_selectb.index = lesdates"
   ]
  },
  {
   "cell_type": "markdown",
   "metadata": {},
   "source": [
    "Nous transformons les variables explicatives au format yty_var pour être cohérent avec la variable cible. Aussi, cela permet une éventuelle neutralisation des effets saisonniers."
   ]
  },
  {
   "cell_type": "code",
   "execution_count": 20,
   "metadata": {},
   "outputs": [
    {
     "output_type": "execute_result",
     "data": {
      "text/plain": "[False, True, False, True, True, True, False, True, True, False]"
     },
     "metadata": {},
     "execution_count": 20
    }
   ],
   "source": [
    "''' Stationnarisation de X '''\n",
    "\n",
    "import statsmodels.api as sm\n",
    "\n",
    "from statsmodels.tsa.stattools import adfuller \n",
    "\n",
    "regX = pd.DataFrame()\n",
    "regX['Constante'] = pd.Series(np.ones(len(X_selectb)))\n",
    "regX['Temps'] = pd.Series(np.arange(1,len(X_selectb)+1))\n",
    "regX.index = X_selectb.index\n",
    "ts = []\n",
    "for i in range(len(X_selectb.columns)):\n",
    "    ts.append((sm.OLS(X_selectb.iloc[:,i],regX).fit().pvalues < 0.05)) # On regarde pour chaque variable s'il y a une tendance déterministe\n",
    "\n",
    "adftest = [] # On fait un test ADF pour chacune\n",
    "\n",
    "for i in range(len(X_selectb.columns)):\n",
    "    regressionmode = ''\n",
    "    if ts[i][0] :\n",
    "        regressionmode += 'c'\n",
    "        if ts[i][1] :\n",
    "            regressionmode += 't'\n",
    "    else:\n",
    "        regressionmode = 'nc'\n",
    "    \n",
    "    adftest.append(adfuller(X_selectb.iloc[:,i],regression = regressionmode, maxlag=24, autolag='t-stat')[1] < 0.05)\n",
    "    liste.append(adfuller(X_selectb.iloc[:,i],regression = regressionmode, maxlag=24, autolag='t-stat')[1])\n",
    "\n",
    "adftest # Il faut en différentier quelques-unes"
   ]
  },
  {
   "cell_type": "markdown",
   "metadata": {},
   "source": [
    "Toutes les variables ne sont pas stationnaires. Nous allons toutes les différencier, par souci de cohérence de l'analyse."
   ]
  },
  {
   "cell_type": "code",
   "execution_count": 23,
   "metadata": {},
   "outputs": [],
   "source": [
    "X_selectb = (X[selectionBrut].iloc[:118,:][::-1].diff(periods=12)/X[selectionBrut].iloc[:118,:][::-1].shift(periods=12)).diff(periods=1).iloc[13:,:] # On prend une période de plus\n",
    "X_selectb.index = lesdates"
   ]
  },
  {
   "cell_type": "code",
   "execution_count": 25,
   "metadata": {},
   "outputs": [
    {
     "output_type": "execute_result",
     "data": {
      "text/plain": "[True, True, True, True, True, True, True, True, True, True]"
     },
     "metadata": {},
     "execution_count": 25
    }
   ],
   "source": [
    "# On recommence les tests\n",
    "regX = pd.DataFrame()\n",
    "regX['Constante'] = pd.Series(np.ones(len(X_selectb)))\n",
    "regX['Temps'] = pd.Series(np.arange(1,len(X_selectb)+1))\n",
    "regX.index = X_selectb.index\n",
    "ts = []\n",
    "for i in range(len(X_selectb.columns)):\n",
    "    ts.append((sm.OLS(X_selectb.iloc[:,i],regX).fit().pvalues < 0.05))\n",
    "\n",
    "adftest = []\n",
    "\n",
    "\n",
    "for i in range(len(X_selectb.columns)):\n",
    "    regressionmode = ''\n",
    "    if ts[i][0] :\n",
    "        regressionmode += 'c'\n",
    "        if ts[i][1] :\n",
    "            regressionmode += 't'\n",
    "    else:\n",
    "        regressionmode = 'nc'\n",
    "    adftest.append(adfuller(X_selectb.iloc[:,i],regression = regressionmode, maxlag=24, autolag='t-stat')[1] < 0.05)\n",
    "adftest # Tout est stationnaire"
   ]
  },
  {
   "cell_type": "markdown",
   "metadata": {},
   "source": [
    "Une seule différenciation est nécessaire."
   ]
  },
  {
   "cell_type": "code",
   "execution_count": null,
   "metadata": {},
   "outputs": [],
   "source": []
  }
 ],
 "metadata": {
  "kernelspec": {
   "display_name": "Python 3.7.5 64-bit",
   "language": "python",
   "name": "python37564bitcbbd4560f668440eb6ebbc4d341a7d95"
  },
  "language_info": {
   "codemirror_mode": {
    "name": "ipython",
    "version": 3
   },
   "file_extension": ".py",
   "mimetype": "text/x-python",
   "name": "python",
   "nbconvert_exporter": "python",
   "pygments_lexer": "ipython3",
   "version": "3.7.5-final"
  }
 },
 "nbformat": 4,
 "nbformat_minor": 2
}