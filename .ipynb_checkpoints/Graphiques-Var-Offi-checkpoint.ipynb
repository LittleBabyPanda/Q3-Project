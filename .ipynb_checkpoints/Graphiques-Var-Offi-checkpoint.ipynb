{
 "cells": [
  {
   "cell_type": "markdown",
   "metadata": {},
   "source": [
    "# Graphiques Variables Officielles"
   ]
  },
  {
   "cell_type": "markdown",
   "metadata": {},
   "source": [
    "## Import des packages et des données"
   ]
  },
  {
   "cell_type": "code",
   "execution_count": 1,
   "metadata": {},
   "outputs": [],
   "source": [
    "%matplotlib inline\n",
    "import matplotlib.pyplot as plt\n",
    "import pandas as pd\n",
    "import numpy as np\n",
    "import re\n",
    "import time"
   ]
  },
  {
   "cell_type": "code",
   "execution_count": 2,
   "metadata": {},
   "outputs": [],
   "source": [
    "conso = pd.read_csv('Ressources/Consommation des ménages trimestrielle.csv',sep=';')\n",
    "consof = pd.read_csv('Ressources/Consommation par fonction.csv',sep=';')\n",
    "consot = pd.read_csv('Ressources/Consommation.csv',sep=';')\n",
    "retail_trade = pd.read_csv('Ressources/Retail trade index.csv',sep=';').drop(range(4)).reset_index().drop('index',axis=1)\n",
    "retail_trade = retail_trade.rename({'Titre :':'Date'},axis='columns').set_index('Date').replace({',':'.'},regex=True).astype('float64')"
   ]
  },
  {
   "cell_type": "code",
   "execution_count": 3,
   "metadata": {},
   "outputs": [],
   "source": [
    "retail_brut = retail_trade.loc[:,[column.endswith('(Brut)') for column in retail_trade.columns]]\n",
    "retail_CJO_CVS = retail_trade.loc[:,[column.endswith('(CJO CVS)') for column in retail_trade.columns]]"
   ]
  },
  {
   "cell_type": "code",
   "execution_count": 4,
   "metadata": {},
   "outputs": [],
   "source": [
    "retail_brut_valeur = retail_brut.filter(regex='indice en valeur')\n",
    "retail_brut_volume = retail_brut.filter(regex='indice en volume')\n",
    "retail_CJO_CVS_valeur = retail_CJO_CVS.filter(regex='indice en valeur')\n",
    "retail_CJO_CVS_volume = retail_CJO_CVS.filter(regex='indice en volume')"
   ]
  },
  {
   "cell_type": "code",
   "execution_count": 5,
   "metadata": {},
   "outputs": [],
   "source": [
    "consof = consof.filter(regex='Série CVS-CJO',axis=1)\n",
    "consot = consot.set_index('Libellé').filter(regex='Série CVS-CJO').drop('idBank').drop('Période')"
   ]
  },
  {
   "cell_type": "code",
   "execution_count": 6,
   "metadata": {},
   "outputs": [],
   "source": [
    "var = []\n",
    "for i in range(4,len(consot),1):\n",
    "    var.append(float(consot.iloc[::-1].iloc[i]/consot.iloc[::-1].iloc[i-4] - 1))\n",
    "yty_var = pd.DataFrame({'Variations de la consommation':var,\n",
    "'Date':list(consot.iloc[::-1].index)[4:]})\n",
    "yty_var = yty_var.set_index('Date')"
   ]
  },
  {
   "cell_type": "markdown",
   "metadata": {},
   "source": [
    "## Graphiques simples"
   ]
  },
  {
   "cell_type": "code",
   "execution_count": null,
   "metadata": {},
   "outputs": [],
   "source": [
    "plt.rcParams['figure.figsize'] = [20,50]\n",
    "longueur = len(retail_CJO_CVS_volume.columns)//2 + 1\n",
    "fig_retail_CJO_CVS_volume, axs_volume_CJO_CVS = plt.subplots(longueur,2,sharex='col',sharey='row',gridspec_kw={'wspace':0.2,'hspace':0.5})\n",
    "\n",
    "for i in range(len(retail_CJO_CVS_volume.columns)):\n",
    "    axs_volume_CJO_CVS[i//2][i%2].plot(retail_CJO_CVS_volume.iloc[::-1,i])\n",
    "    axs_volume_CJO_CVS[i//2][i%2].set(title=retail_CJO_CVS_volume.columns[i])\n",
    "    axs_volume_CJO_CVS[i//2][i%2].set_xlabel('Temps')\n",
    "    axs_volume_CJO_CVS[i//2][i%2].set_ylabel('Valeur de l\\'indice')\n",
    "\n",
    "    ax_twin = axs_volume_CJO_CVS[i//2][i%2].twinx().twiny()\n",
    "    ax_twin.plot(yty_var)\n",
    "    ax_twin.set_ylabel('Consommation des ménages')\n"
   ]
  },
  {
   "cell_type": "code",
   "execution_count": null,
   "metadata": {},
   "outputs": [],
   "source": []
  },
  {
   "cell_type": "code",
   "execution_count": null,
   "metadata": {},
   "outputs": [],
   "source": []
  }
 ],
 "metadata": {
  "file_extension": ".py",
  "kernelspec": {
   "display_name": "Python 3.7.5 64-bit",
   "language": "python",
   "name": "python37564bitcbbd4560f668440eb6ebbc4d341a7d95"
  },
  "language_info": {
   "codemirror_mode": {
    "name": "ipython",
    "version": 3
   },
   "file_extension": ".py",
   "mimetype": "text/x-python",
   "name": "python",
   "nbconvert_exporter": "python",
   "pygments_lexer": "ipython3",
   "version": "3.7.5"
  },
  "mimetype": "text/x-python",
  "name": "python",
  "npconvert_exporter": "python",
  "pygments_lexer": "ipython3",
  "version": 3
 },
 "nbformat": 4,
 "nbformat_minor": 2
}
